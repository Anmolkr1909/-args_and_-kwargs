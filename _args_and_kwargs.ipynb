{
  "nbformat": 4,
  "nbformat_minor": 0,
  "metadata": {
    "colab": {
      "provenance": [],
      "include_colab_link": true
    },
    "kernelspec": {
      "name": "python3",
      "display_name": "Python 3"
    },
    "language_info": {
      "name": "python"
    }
  },
  "cells": [
    {
      "cell_type": "markdown",
      "metadata": {
        "id": "view-in-github",
        "colab_type": "text"
      },
      "source": [
        "<a href=\"https://colab.research.google.com/github/Anmolkr1909/-args_and_-kwargs/blob/main/_args_and_kwargs.ipynb\" target=\"_parent\"><img src=\"https://colab.research.google.com/assets/colab-badge.svg\" alt=\"Open In Colab\"/></a>"
      ]
    },
    {
      "cell_type": "markdown",
      "source": [
        "# **args and kwargs**\n",
        "\n",
        "---\n",
        "\n",
        "\n",
        "\n",
        "---\n",
        "\n"
      ],
      "metadata": {
        "id": "tQbN7ptfyV8r"
      }
    },
    {
      "cell_type": "markdown",
      "source": [
        "76) Restaurant Bill Calculator\n",
        "* Accept any number of item prices and calculate the total."
      ],
      "metadata": {
        "id": "xmtnSWVR1Ifh"
      }
    },
    {
      "cell_type": "code",
      "source": [
        "def calculate_bill(*prices):\n",
        "    total = sum(prices)\n",
        "    print(f\"Total Bill: ₹{total}\")\n",
        "\n",
        "calculate_bill(120, 250, 90, 40)  # 4 items\n"
      ],
      "metadata": {
        "colab": {
          "base_uri": "https://localhost:8080/"
        },
        "id": "6zz5DSM13TAL",
        "outputId": "c1152a96-d75e-4c9f-af54-ec42de1f453c"
      },
      "execution_count": null,
      "outputs": [
        {
          "output_type": "stream",
          "name": "stdout",
          "text": [
            "Total Bill: ₹500\n"
          ]
        }
      ]
    },
    {
      "cell_type": "markdown",
      "source": [
        "\n",
        "\n",
        "---\n",
        "\n"
      ],
      "metadata": {
        "id": "T99f1B0I4F2u"
      }
    },
    {
      "cell_type": "markdown",
      "source": [
        "77)  Student Bio Printer\n",
        "*  Accept any number of student details and print them neatly."
      ],
      "metadata": {
        "id": "VyZpBVxz34Eq"
      }
    },
    {
      "cell_type": "code",
      "source": [
        "def print_student_info(**kwargs):\n",
        "    print(\"Student Bio\")\n",
        "    for key, value in kwargs.items():\n",
        "        print(f\"{key.capitalize()}: {value}\")\n",
        "\n",
        "print_student_info(name=\"Anmol\", age=22, branch=\"AI\", college=\"IIT\")\n"
      ],
      "metadata": {
        "colab": {
          "base_uri": "https://localhost:8080/"
        },
        "id": "b2QIAx074G0q",
        "outputId": "bbe55cbc-ed5a-4218-f539-7d0ebcb2310f"
      },
      "execution_count": null,
      "outputs": [
        {
          "output_type": "stream",
          "name": "stdout",
          "text": [
            "Student Bio\n",
            "Name: Anmol\n",
            "Age: 22\n",
            "Branch: AI\n",
            "College: IIT\n"
          ]
        }
      ]
    }
  ]
}